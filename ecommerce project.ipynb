{
 "cells": [
  {
   "cell_type": "code",
   "execution_count": 1,
   "id": "4cd51d21",
   "metadata": {},
   "outputs": [],
   "source": [
    "import pandas as pd \n",
    "import numpy as np "
   ]
  },
  {
   "cell_type": "code",
   "execution_count": 2,
   "id": "1480fdbb",
   "metadata": {},
   "outputs": [
    {
     "name": "stderr",
     "output_type": "stream",
     "text": [
      "C:\\Users\\singh\\AppData\\Local\\Temp\\ipykernel_2500\\2474663059.py:1: DtypeWarning: Columns (23) have mixed types. Specify dtype option on import or set low_memory=False.\n",
      "  df = pd.read_csv('Amazon Sale Report.csv')\n"
     ]
    }
   ],
   "source": [
    "df = pd.read_csv('Amazon Sale Report.csv')"
   ]
  },
  {
   "cell_type": "markdown",
   "id": "91cd5110",
   "metadata": {},
   "source": [
    "#### Reading Data"
   ]
  },
  {
   "cell_type": "code",
   "execution_count": 3,
   "id": "eeade7f4",
   "metadata": {},
   "outputs": [
    {
     "data": {
      "text/html": [
       "<div>\n",
       "<style scoped>\n",
       "    .dataframe tbody tr th:only-of-type {\n",
       "        vertical-align: middle;\n",
       "    }\n",
       "\n",
       "    .dataframe tbody tr th {\n",
       "        vertical-align: top;\n",
       "    }\n",
       "\n",
       "    .dataframe thead th {\n",
       "        text-align: right;\n",
       "    }\n",
       "</style>\n",
       "<table border=\"1\" class=\"dataframe\">\n",
       "  <thead>\n",
       "    <tr style=\"text-align: right;\">\n",
       "      <th></th>\n",
       "      <th>index</th>\n",
       "      <th>Order ID</th>\n",
       "      <th>Date</th>\n",
       "      <th>Status</th>\n",
       "      <th>Fulfilment</th>\n",
       "      <th>Sales Channel</th>\n",
       "      <th>ship-service-level</th>\n",
       "      <th>Style</th>\n",
       "      <th>SKU</th>\n",
       "      <th>Category</th>\n",
       "      <th>...</th>\n",
       "      <th>currency</th>\n",
       "      <th>Amount</th>\n",
       "      <th>ship-city</th>\n",
       "      <th>ship-state</th>\n",
       "      <th>ship-postal-code</th>\n",
       "      <th>ship-country</th>\n",
       "      <th>promotion-ids</th>\n",
       "      <th>B2B</th>\n",
       "      <th>fulfilled-by</th>\n",
       "      <th>Unnamed: 22</th>\n",
       "    </tr>\n",
       "  </thead>\n",
       "  <tbody>\n",
       "    <tr>\n",
       "      <th>0</th>\n",
       "      <td>0</td>\n",
       "      <td>405-8078784-5731545</td>\n",
       "      <td>04-30-22</td>\n",
       "      <td>Cancelled</td>\n",
       "      <td>Merchant</td>\n",
       "      <td>Amazon.in</td>\n",
       "      <td>Standard</td>\n",
       "      <td>SET389</td>\n",
       "      <td>SET389-KR-NP-S</td>\n",
       "      <td>Set</td>\n",
       "      <td>...</td>\n",
       "      <td>INR</td>\n",
       "      <td>647.62</td>\n",
       "      <td>MUMBAI</td>\n",
       "      <td>MAHARASHTRA</td>\n",
       "      <td>400081.0</td>\n",
       "      <td>IN</td>\n",
       "      <td>NaN</td>\n",
       "      <td>False</td>\n",
       "      <td>Easy Ship</td>\n",
       "      <td>NaN</td>\n",
       "    </tr>\n",
       "    <tr>\n",
       "      <th>1</th>\n",
       "      <td>1</td>\n",
       "      <td>171-9198151-1101146</td>\n",
       "      <td>04-30-22</td>\n",
       "      <td>Shipped - Delivered to Buyer</td>\n",
       "      <td>Merchant</td>\n",
       "      <td>Amazon.in</td>\n",
       "      <td>Standard</td>\n",
       "      <td>JNE3781</td>\n",
       "      <td>JNE3781-KR-XXXL</td>\n",
       "      <td>kurta</td>\n",
       "      <td>...</td>\n",
       "      <td>INR</td>\n",
       "      <td>406.00</td>\n",
       "      <td>BENGALURU</td>\n",
       "      <td>KARNATAKA</td>\n",
       "      <td>560085.0</td>\n",
       "      <td>IN</td>\n",
       "      <td>Amazon PLCC Free-Financing Universal Merchant ...</td>\n",
       "      <td>False</td>\n",
       "      <td>Easy Ship</td>\n",
       "      <td>NaN</td>\n",
       "    </tr>\n",
       "    <tr>\n",
       "      <th>2</th>\n",
       "      <td>2</td>\n",
       "      <td>404-0687676-7273146</td>\n",
       "      <td>04-30-22</td>\n",
       "      <td>Shipped</td>\n",
       "      <td>Amazon</td>\n",
       "      <td>Amazon.in</td>\n",
       "      <td>Expedited</td>\n",
       "      <td>JNE3371</td>\n",
       "      <td>JNE3371-KR-XL</td>\n",
       "      <td>kurta</td>\n",
       "      <td>...</td>\n",
       "      <td>INR</td>\n",
       "      <td>329.00</td>\n",
       "      <td>NAVI MUMBAI</td>\n",
       "      <td>MAHARASHTRA</td>\n",
       "      <td>410210.0</td>\n",
       "      <td>IN</td>\n",
       "      <td>IN Core Free Shipping 2015/04/08 23-48-5-108</td>\n",
       "      <td>True</td>\n",
       "      <td>NaN</td>\n",
       "      <td>NaN</td>\n",
       "    </tr>\n",
       "    <tr>\n",
       "      <th>3</th>\n",
       "      <td>3</td>\n",
       "      <td>403-9615377-8133951</td>\n",
       "      <td>04-30-22</td>\n",
       "      <td>Cancelled</td>\n",
       "      <td>Merchant</td>\n",
       "      <td>Amazon.in</td>\n",
       "      <td>Standard</td>\n",
       "      <td>J0341</td>\n",
       "      <td>J0341-DR-L</td>\n",
       "      <td>Western Dress</td>\n",
       "      <td>...</td>\n",
       "      <td>INR</td>\n",
       "      <td>753.33</td>\n",
       "      <td>PUDUCHERRY</td>\n",
       "      <td>PUDUCHERRY</td>\n",
       "      <td>605008.0</td>\n",
       "      <td>IN</td>\n",
       "      <td>NaN</td>\n",
       "      <td>False</td>\n",
       "      <td>Easy Ship</td>\n",
       "      <td>NaN</td>\n",
       "    </tr>\n",
       "    <tr>\n",
       "      <th>4</th>\n",
       "      <td>4</td>\n",
       "      <td>407-1069790-7240320</td>\n",
       "      <td>04-30-22</td>\n",
       "      <td>Shipped</td>\n",
       "      <td>Amazon</td>\n",
       "      <td>Amazon.in</td>\n",
       "      <td>Expedited</td>\n",
       "      <td>JNE3671</td>\n",
       "      <td>JNE3671-TU-XXXL</td>\n",
       "      <td>Top</td>\n",
       "      <td>...</td>\n",
       "      <td>INR</td>\n",
       "      <td>574.00</td>\n",
       "      <td>CHENNAI</td>\n",
       "      <td>TAMIL NADU</td>\n",
       "      <td>600073.0</td>\n",
       "      <td>IN</td>\n",
       "      <td>NaN</td>\n",
       "      <td>False</td>\n",
       "      <td>NaN</td>\n",
       "      <td>NaN</td>\n",
       "    </tr>\n",
       "  </tbody>\n",
       "</table>\n",
       "<p>5 rows × 24 columns</p>\n",
       "</div>"
      ],
      "text/plain": [
       "   index             Order ID      Date                        Status  \\\n",
       "0      0  405-8078784-5731545  04-30-22                     Cancelled   \n",
       "1      1  171-9198151-1101146  04-30-22  Shipped - Delivered to Buyer   \n",
       "2      2  404-0687676-7273146  04-30-22                       Shipped   \n",
       "3      3  403-9615377-8133951  04-30-22                     Cancelled   \n",
       "4      4  407-1069790-7240320  04-30-22                       Shipped   \n",
       "\n",
       "  Fulfilment Sales Channel  ship-service-level    Style              SKU  \\\n",
       "0   Merchant      Amazon.in           Standard   SET389   SET389-KR-NP-S   \n",
       "1   Merchant      Amazon.in           Standard  JNE3781  JNE3781-KR-XXXL   \n",
       "2     Amazon      Amazon.in          Expedited  JNE3371    JNE3371-KR-XL   \n",
       "3   Merchant      Amazon.in           Standard    J0341       J0341-DR-L   \n",
       "4     Amazon      Amazon.in          Expedited  JNE3671  JNE3671-TU-XXXL   \n",
       "\n",
       "        Category  ... currency  Amount    ship-city   ship-state  \\\n",
       "0            Set  ...      INR  647.62       MUMBAI  MAHARASHTRA   \n",
       "1          kurta  ...      INR  406.00    BENGALURU    KARNATAKA   \n",
       "2          kurta  ...      INR  329.00  NAVI MUMBAI  MAHARASHTRA   \n",
       "3  Western Dress  ...      INR  753.33   PUDUCHERRY   PUDUCHERRY   \n",
       "4            Top  ...      INR  574.00      CHENNAI   TAMIL NADU   \n",
       "\n",
       "  ship-postal-code  ship-country  \\\n",
       "0         400081.0            IN   \n",
       "1         560085.0            IN   \n",
       "2         410210.0            IN   \n",
       "3         605008.0            IN   \n",
       "4         600073.0            IN   \n",
       "\n",
       "                                       promotion-ids    B2B  fulfilled-by  \\\n",
       "0                                                NaN  False     Easy Ship   \n",
       "1  Amazon PLCC Free-Financing Universal Merchant ...  False     Easy Ship   \n",
       "2       IN Core Free Shipping 2015/04/08 23-48-5-108   True           NaN   \n",
       "3                                                NaN  False     Easy Ship   \n",
       "4                                                NaN  False           NaN   \n",
       "\n",
       "  Unnamed: 22  \n",
       "0         NaN  \n",
       "1         NaN  \n",
       "2         NaN  \n",
       "3         NaN  \n",
       "4         NaN  \n",
       "\n",
       "[5 rows x 24 columns]"
      ]
     },
     "execution_count": 3,
     "metadata": {},
     "output_type": "execute_result"
    }
   ],
   "source": [
    "df.head(5)"
   ]
  },
  {
   "cell_type": "markdown",
   "id": "c633da64",
   "metadata": {},
   "source": [
    "### Finding Null Values"
   ]
  },
  {
   "cell_type": "code",
   "execution_count": 4,
   "id": "5b29e5ff",
   "metadata": {},
   "outputs": [
    {
     "data": {
      "text/plain": [
       "index                     0\n",
       "Order ID                  0\n",
       "Date                      0\n",
       "Status                    0\n",
       "Fulfilment                0\n",
       "Sales Channel             0\n",
       "ship-service-level        0\n",
       "Style                     0\n",
       "SKU                       0\n",
       "Category                  0\n",
       "Size                      0\n",
       "ASIN                      0\n",
       "Courier Status         6872\n",
       "Qty                       0\n",
       "currency               7795\n",
       "Amount                 7795\n",
       "ship-city                33\n",
       "ship-state               33\n",
       "ship-postal-code         33\n",
       "ship-country             33\n",
       "promotion-ids         49153\n",
       "B2B                       0\n",
       "fulfilled-by          89698\n",
       "Unnamed: 22           49050\n",
       "dtype: int64"
      ]
     },
     "execution_count": 4,
     "metadata": {},
     "output_type": "execute_result"
    }
   ],
   "source": [
    "df.isnull().sum()"
   ]
  },
  {
   "cell_type": "markdown",
   "id": "cd7ede42",
   "metadata": {},
   "source": [
    "### Dropping Unwanted Columns"
   ]
  },
  {
   "cell_type": "code",
   "execution_count": 5,
   "id": "7fb5e8db",
   "metadata": {},
   "outputs": [
    {
     "name": "stdout",
     "output_type": "stream",
     "text": [
      "<class 'pandas.core.frame.DataFrame'>\n",
      "RangeIndex: 128975 entries, 0 to 128974\n",
      "Data columns (total 24 columns):\n",
      " #   Column              Non-Null Count   Dtype  \n",
      "---  ------              --------------   -----  \n",
      " 0   index               128975 non-null  int64  \n",
      " 1   Order ID            128975 non-null  object \n",
      " 2   Date                128975 non-null  object \n",
      " 3   Status              128975 non-null  object \n",
      " 4   Fulfilment          128975 non-null  object \n",
      " 5   Sales Channel       128975 non-null  object \n",
      " 6   ship-service-level  128975 non-null  object \n",
      " 7   Style               128975 non-null  object \n",
      " 8   SKU                 128975 non-null  object \n",
      " 9   Category            128975 non-null  object \n",
      " 10  Size                128975 non-null  object \n",
      " 11  ASIN                128975 non-null  object \n",
      " 12  Courier Status      122103 non-null  object \n",
      " 13  Qty                 128975 non-null  int64  \n",
      " 14  currency            121180 non-null  object \n",
      " 15  Amount              121180 non-null  float64\n",
      " 16  ship-city           128942 non-null  object \n",
      " 17  ship-state          128942 non-null  object \n",
      " 18  ship-postal-code    128942 non-null  float64\n",
      " 19  ship-country        128942 non-null  object \n",
      " 20  promotion-ids       79822 non-null   object \n",
      " 21  B2B                 128975 non-null  bool   \n",
      " 22  fulfilled-by        39277 non-null   object \n",
      " 23  Unnamed: 22         79925 non-null   object \n",
      "dtypes: bool(1), float64(2), int64(2), object(19)\n",
      "memory usage: 22.8+ MB\n"
     ]
    },
    {
     "data": {
      "text/plain": [
       "(0, 8, 14, 19, 20, 22, 23, 11, 13, 10)"
      ]
     },
     "execution_count": 5,
     "metadata": {},
     "output_type": "execute_result"
    }
   ],
   "source": [
    "df.info()\n",
    "0,8,14,19,20,22,23,11,13,10"
   ]
  },
  {
   "cell_type": "code",
   "execution_count": 6,
   "id": "0e98152d",
   "metadata": {},
   "outputs": [],
   "source": [
    "df.drop(df.columns[[0,8,14,19,20,22,23,11,13,10]], axis = 1 , inplace = True)"
   ]
  },
  {
   "cell_type": "code",
   "execution_count": 7,
   "id": "f149f607",
   "metadata": {},
   "outputs": [
    {
     "data": {
      "text/html": [
       "<div>\n",
       "<style scoped>\n",
       "    .dataframe tbody tr th:only-of-type {\n",
       "        vertical-align: middle;\n",
       "    }\n",
       "\n",
       "    .dataframe tbody tr th {\n",
       "        vertical-align: top;\n",
       "    }\n",
       "\n",
       "    .dataframe thead th {\n",
       "        text-align: right;\n",
       "    }\n",
       "</style>\n",
       "<table border=\"1\" class=\"dataframe\">\n",
       "  <thead>\n",
       "    <tr style=\"text-align: right;\">\n",
       "      <th></th>\n",
       "      <th>Order ID</th>\n",
       "      <th>Date</th>\n",
       "      <th>Status</th>\n",
       "      <th>Fulfilment</th>\n",
       "      <th>Sales Channel</th>\n",
       "      <th>ship-service-level</th>\n",
       "      <th>Style</th>\n",
       "      <th>Category</th>\n",
       "      <th>Courier Status</th>\n",
       "      <th>Amount</th>\n",
       "      <th>ship-city</th>\n",
       "      <th>ship-state</th>\n",
       "      <th>ship-postal-code</th>\n",
       "      <th>B2B</th>\n",
       "    </tr>\n",
       "  </thead>\n",
       "  <tbody>\n",
       "    <tr>\n",
       "      <th>0</th>\n",
       "      <td>405-8078784-5731545</td>\n",
       "      <td>04-30-22</td>\n",
       "      <td>Cancelled</td>\n",
       "      <td>Merchant</td>\n",
       "      <td>Amazon.in</td>\n",
       "      <td>Standard</td>\n",
       "      <td>SET389</td>\n",
       "      <td>Set</td>\n",
       "      <td>NaN</td>\n",
       "      <td>647.62</td>\n",
       "      <td>MUMBAI</td>\n",
       "      <td>MAHARASHTRA</td>\n",
       "      <td>400081.0</td>\n",
       "      <td>False</td>\n",
       "    </tr>\n",
       "    <tr>\n",
       "      <th>1</th>\n",
       "      <td>171-9198151-1101146</td>\n",
       "      <td>04-30-22</td>\n",
       "      <td>Shipped - Delivered to Buyer</td>\n",
       "      <td>Merchant</td>\n",
       "      <td>Amazon.in</td>\n",
       "      <td>Standard</td>\n",
       "      <td>JNE3781</td>\n",
       "      <td>kurta</td>\n",
       "      <td>Shipped</td>\n",
       "      <td>406.00</td>\n",
       "      <td>BENGALURU</td>\n",
       "      <td>KARNATAKA</td>\n",
       "      <td>560085.0</td>\n",
       "      <td>False</td>\n",
       "    </tr>\n",
       "    <tr>\n",
       "      <th>2</th>\n",
       "      <td>404-0687676-7273146</td>\n",
       "      <td>04-30-22</td>\n",
       "      <td>Shipped</td>\n",
       "      <td>Amazon</td>\n",
       "      <td>Amazon.in</td>\n",
       "      <td>Expedited</td>\n",
       "      <td>JNE3371</td>\n",
       "      <td>kurta</td>\n",
       "      <td>Shipped</td>\n",
       "      <td>329.00</td>\n",
       "      <td>NAVI MUMBAI</td>\n",
       "      <td>MAHARASHTRA</td>\n",
       "      <td>410210.0</td>\n",
       "      <td>True</td>\n",
       "    </tr>\n",
       "  </tbody>\n",
       "</table>\n",
       "</div>"
      ],
      "text/plain": [
       "              Order ID      Date                        Status Fulfilment  \\\n",
       "0  405-8078784-5731545  04-30-22                     Cancelled   Merchant   \n",
       "1  171-9198151-1101146  04-30-22  Shipped - Delivered to Buyer   Merchant   \n",
       "2  404-0687676-7273146  04-30-22                       Shipped     Amazon   \n",
       "\n",
       "  Sales Channel  ship-service-level    Style Category Courier Status  Amount  \\\n",
       "0      Amazon.in           Standard   SET389      Set            NaN  647.62   \n",
       "1      Amazon.in           Standard  JNE3781    kurta        Shipped  406.00   \n",
       "2      Amazon.in          Expedited  JNE3371    kurta        Shipped  329.00   \n",
       "\n",
       "     ship-city   ship-state  ship-postal-code    B2B  \n",
       "0       MUMBAI  MAHARASHTRA          400081.0  False  \n",
       "1    BENGALURU    KARNATAKA          560085.0  False  \n",
       "2  NAVI MUMBAI  MAHARASHTRA          410210.0   True  "
      ]
     },
     "execution_count": 7,
     "metadata": {},
     "output_type": "execute_result"
    }
   ],
   "source": [
    "df.head(3)"
   ]
  },
  {
   "cell_type": "code",
   "execution_count": 8,
   "id": "bb2ddafc",
   "metadata": {},
   "outputs": [
    {
     "data": {
      "text/plain": [
       "(128975, 14)"
      ]
     },
     "execution_count": 8,
     "metadata": {},
     "output_type": "execute_result"
    }
   ],
   "source": [
    "df.shape"
   ]
  },
  {
   "cell_type": "markdown",
   "id": "993a0ed2",
   "metadata": {},
   "source": [
    "### Dropping Null Values"
   ]
  },
  {
   "cell_type": "code",
   "execution_count": 9,
   "id": "56ef5c80",
   "metadata": {},
   "outputs": [],
   "source": [
    "df.dropna(inplace = True)"
   ]
  },
  {
   "cell_type": "code",
   "execution_count": 10,
   "id": "a57858b2",
   "metadata": {},
   "outputs": [
    {
     "data": {
      "text/plain": [
       "(116016, 14)"
      ]
     },
     "execution_count": 10,
     "metadata": {},
     "output_type": "execute_result"
    }
   ],
   "source": [
    "df.shape"
   ]
  },
  {
   "cell_type": "code",
   "execution_count": 11,
   "id": "07c9ce5f",
   "metadata": {
    "scrolled": true
   },
   "outputs": [
    {
     "data": {
      "text/plain": [
       "Order ID              0\n",
       "Date                  0\n",
       "Status                0\n",
       "Fulfilment            0\n",
       "Sales Channel         0\n",
       "ship-service-level    0\n",
       "Style                 0\n",
       "Category              0\n",
       "Courier Status        0\n",
       "Amount                0\n",
       "ship-city             0\n",
       "ship-state            0\n",
       "ship-postal-code      0\n",
       "B2B                   0\n",
       "dtype: int64"
      ]
     },
     "execution_count": 11,
     "metadata": {},
     "output_type": "execute_result"
    }
   ],
   "source": [
    "df.isnull().sum()"
   ]
  },
  {
   "cell_type": "markdown",
   "id": "e1df2073",
   "metadata": {},
   "source": [
    "### Checking the unique values"
   ]
  },
  {
   "cell_type": "code",
   "execution_count": 12,
   "id": "11967d82",
   "metadata": {},
   "outputs": [
    {
     "name": "stdout",
     "output_type": "stream",
     "text": [
      "Order ID\n",
      "['171-9198151-1101146' '404-0687676-7273146' '407-1069790-7240320' ...\n",
      " '407-9547469-3152358' '402-6184140-0545956' '408-7436540-8728312']\n",
      "-----------\n",
      "\n",
      "Date\n",
      "['04-30-22' '04-29-22' '04-28-22' '04-27-22' '04-26-22' '04-25-22'\n",
      " '04-24-22' '04-23-22' '04-22-22' '04-21-22' '04-20-22' '04-19-22'\n",
      " '04-18-22' '04-17-22' '04-16-22' '04-15-22' '04-14-22' '04-13-22'\n",
      " '04-12-22' '04-11-22' '04-10-22' '04-09-22' '04-08-22' '04-07-22'\n",
      " '04-06-22' '04-05-22' '04-04-22' '04-03-22' '04-02-22' '04-01-22'\n",
      " '03-31-22' '05-31-22' '05-30-22' '05-29-22' '05-28-22' '05-27-22'\n",
      " '05-26-22' '05-25-22' '05-24-22' '05-23-22' '05-22-22' '05-21-22'\n",
      " '05-20-22' '05-19-22' '05-18-22' '05-17-22' '05-16-22' '05-15-22'\n",
      " '05-14-22' '05-13-22' '05-12-22' '05-11-22' '05-10-22' '05-09-22'\n",
      " '05-08-22' '05-07-22' '05-06-22' '05-05-22' '05-04-22' '05-03-22'\n",
      " '05-02-22' '05-01-22' '06-29-22' '06-28-22' '06-27-22' '06-26-22'\n",
      " '06-25-22' '06-24-22' '06-23-22' '06-22-22' '06-21-22' '06-20-22'\n",
      " '06-19-22' '06-18-22' '06-17-22' '06-16-22' '06-15-22' '06-14-22'\n",
      " '06-13-22' '06-12-22' '06-11-22' '06-10-22' '06-09-22' '06-08-22'\n",
      " '06-07-22' '06-06-22' '06-05-22' '06-04-22' '06-03-22' '06-02-22'\n",
      " '06-01-22']\n",
      "-----------\n",
      "\n",
      "Status\n",
      "['Shipped - Delivered to Buyer' 'Shipped' 'Cancelled'\n",
      " 'Shipped - Returned to Seller' 'Shipped - Rejected by Buyer'\n",
      " 'Shipped - Lost in Transit' 'Shipped - Out for Delivery'\n",
      " 'Shipped - Returning to Seller' 'Shipped - Picked Up' 'Pending'\n",
      " 'Pending - Waiting for Pick Up' 'Shipped - Damaged']\n",
      "-----------\n",
      "\n",
      "Fulfilment\n",
      "['Merchant' 'Amazon']\n",
      "-----------\n",
      "\n",
      "Sales Channel \n",
      "['Amazon.in']\n",
      "-----------\n",
      "\n",
      "ship-service-level\n",
      "['Standard' 'Expedited']\n",
      "-----------\n",
      "\n",
      "Style\n",
      "['JNE3781' 'JNE3371' 'JNE3671' ... 'J0286' 'J0053' 'SET045']\n",
      "-----------\n",
      "\n",
      "Category\n",
      "['kurta' 'Top' 'Set' 'Western Dress' 'Ethnic Dress' 'Bottom' 'Saree'\n",
      " 'Blouse' 'Dupatta']\n",
      "-----------\n",
      "\n",
      "Courier Status\n",
      "['Shipped' 'Unshipped']\n",
      "-----------\n",
      "\n",
      "Amount\n",
      "[ 406.  329.  574.  824.  653.  399.  363.  685.  364.  657.  771.  544.\n",
      "  458.  886.  517.  666.  376.  499.  582.  299.  459.  791. 1233.  487.\n",
      "  368.  699.  885.  424. 1126.  788.  759. 1146.  665.  429.  848.  654.\n",
      " 1033.  390.  493.  721.  597.  888.  353.  599.  518.  295.  852.  909.\n",
      "  432.  545.  696.  631.  316.  362.  751.  684. 1281. 1186.  377.  744.\n",
      "  859.  825.  680.  725. 1338.  472.  832.  692.  318.  807.  311.  387.\n",
      "  348.  549.  635.  790.  375. 1115.  579.  442.  690. 1399.  999.  496.\n",
      "  845.  568.  484.  626.  563.  512. 1112.  583.  534.  319.  795.  588.\n",
      "  497.  449.    0.  463.  591.  435. 1099.  533.  968.  486. 1065. 2130.\n",
      "  682. 1140.  660.  345.  339. 1133. 1463.  471.  342.  736. 1260.  475.\n",
      "  782. 1173.  379. 1999.  737.  899.  426.  995.  562.  476.  625.  505.\n",
      " 1149. 1499.  835.  789.  620.  511.  352.  874.  259. 1221.  595.  612.\n",
      "  820.  801.  540. 1213.  939.  279.  469.  989. 1249.  393.  922.  818.\n",
      " 2224.  792.  967.  662.  715.  916.  283.  419.  452.  431.  414. 1438.\n",
      "  950.  519. 1199.  291.  276. 1669.  413.  396.  761.  280.  249.  521.\n",
      " 1432.  391.  474.  495. 1238.  527.  613.  648.  783.  460. 1388. 1518.\n",
      " 1092.  586.  478.  925.  566.  833.  523. 1299.  531.  659.  560. 1648.\n",
      "  423. 1556.  383.  571.  799.  446.  881.  477.  869.  548.  488. 1254.\n",
      "  360.  816.  969.  847. 1163. 1308.  271.  526.  443. 1523.  974.  349.\n",
      "  637.  819.  817. 1369.  636.  286.  441.  856.  359. 1128.  284.  525.\n",
      "  972.  864.  453.  455.  884.  421.  729.  671. 1256.  990.  645. 1593.\n",
      "  575.  889.  911.  763.  267.  297.  719.  641. 2175.  524.  294.  425.\n",
      "  372.  357.  273.  749.  935.  717. 1695. 1204.  388.  632. 1200.  464.\n",
      " 1039. 1237.  658.  420. 1287.  569.  590.  611.  839.  333.  720.  567.\n",
      "  758.  716.  646.  491.  929.  619.  309.  473.  380.  629.  587.  434.\n",
      "  438.  752.  389.  381. 1776.  462.  436.  433.  522.  573.  382.  551.\n",
      " 1398. 1158.  814.  547.  355.  539.  698.  385. 1450.  229.  529.  764.\n",
      " 1477.  870. 1080. 5495.  838.  774. 1296. 1194.  480.  598.  798.  298.\n",
      "  895. 2198.  638.  942.  468.  714.  365. 1228. 1576.  643. 2299. 1316.\n",
      "  733.  448.  581. 1088. 1488.  370.  516. 1729. 1326. 1036.  906. 1148.\n",
      "  541. 2232.  344.  986.  809. 1136. 1104.  322.  422.  724. 1798. 1034.\n",
      " 2864. 2230.  437.  546. 1330. 1934.  918.  667. 1022. 1551. 1458. 2068.\n",
      " 1392. 1320. 1671. 2040. 1990.  846. 1245.  812.  199.  269. 1262. 1893.\n",
      "  589. 1129.  930.  618. 1127.  371. 1481. 1079.  912.  987.  871.  530.\n",
      "  683. 1691. 1154.  528.  747. 2860. 1430.  775.  412.  955.  630. 1053.\n",
      "  898. 1020. 1130. 1292.  510.  481. 1078.  358.  958.  678.  647. 1201.\n",
      " 1075.  354.  542. 1298.  313.  677. 1166. 1138.  998.  330. 1147.  627.\n",
      "  730.  745. 1270.  877.  786.  949.  293.  317.  622. 1170.  689.  556.\n",
      "  277.  688.  927. 5584.  394.  315.  350.  920.  984.  849. 1085.  750.\n",
      "  328.  676.  378.  338. 1271. 1120. 1354. 1229.  461.  347.  941. 1324.\n",
      "  584.  561.  873. 1125.  427.  417.  501.  616.  672.  836.  727.  241.\n",
      "  947.  675.  324.  264. 1030.  248.  743.  642.  841.  956. 1220. 1174.\n",
      "  693. 1196.  772. 1250.  327.  712.  405. 1386.  400. 1916. 1236. 1426.\n",
      "  450.  834.  343.  865.  346.  900.  292.  321.  594. 1051.  650.  428.\n",
      "  640.  466. 1098.  490. 1165. 2066. 2016.  465. 2397.  726. 1542.  674.\n",
      " 1396. 1449. 1496.  537. 1017. 1116. 1799.  988.  655.  850. 1072. 1349.\n",
      "  709. 1132.  301.  605.  711.  837.  962.  854.  633. 1122. 1063.  661.\n",
      "  479.  753.  777.  513. 1282.  857. 1923.  811. 1364.  373.  386. 1152.\n",
      "  337.  741.  307.  614.  418. 1284. 1698.  325. 1418.  669.  565. 2298.\n",
      " 1026.  668. 1332. 1189.  320.  621. 1096.  769.  570.  305.  773.  785.\n",
      "  686.  440. 1068.  936.  356. 1649.  615.  552. 1672.  361.  679.  543.\n",
      "  604.  558. 2655. 1770.  603.  335.  367.  766.  341.  634.  331. 2372.\n",
      "  323.  756.  882. 2598. 1722.  844.  451.  985.  602.  457. 1629. 1082.\n",
      "  965.  803. 1554.  876.  489.  332. 1998. 1528.  369. 2698.  746.  976.\n",
      "  878. 1181.  351.  649. 1714. 1582.  937.  738. 1089. 1708. 1310. 1198.\n",
      "  755. 2058. 1372. 2676. 1224. 1836.  735.  842.  973.  831. 1073.  762.\n",
      " 1043.  553. 1164. 1137.  507.  336.  306.  664.  800.  416. 1315.  550.\n",
      "  606. 1442.  308. 1268.  979. 1319.  760.  787. 1192. 1083.  310.  607.\n",
      "  776.  883.  728.  397. 1419.  931. 2442. 1248.  467.  596.  940.  827.\n",
      "  430. 1352.  502.  554.  535.  855. 1473. 1018.  919. 1008. 1258.  828.\n",
      "  498.  754.  933. 1333. 1041.  702.  808. 1231.  564.  872. 1093.  410.\n",
      "  398. 1297. 1325. 1323.  559.  314.  802. 1404.  593.  902.  366.  704.\n",
      "  796.  880.  797.  384.  767.  703.  572. 1559. 1596. 1226. 1202.  663.\n",
      " 1572. 2796. 1764. 1797.  494. 1362. 1108. 1066.  492.  921.  718. 1309.\n",
      "  892. 1549. 1531. 1031. 1409. 1279. 1111. 1650. 1257. 1205.  765. 1389.\n",
      " 1159.  694. 1190. 1486. 1670. 3036. 1448. 2292. 1168.  908. 1091.  879.\n",
      " 1139. 1447.  948. 1329. 1094. 1044. 1301. 1176. 1187.  794. 1377. 1603.\n",
      " 1076.  952. 1470. 2326. 1234. 1598. 1403. 1269. 1294. 1610.  779.  826.\n",
      " 1498.  982. 1074.  723.  706.  891.  334.  695.  409. 1613.  992. 1662.\n",
      "  312. 1014.  580. 1584.  652.  515. 1328. 1976. 1290. 2250. 1740. 1384.\n",
      " 1516. 1376. 1013.  914.  483. 2182. 1472.  402.  707. 1704. 2664.  536.\n",
      " 2894. 1124.  793. 1574. 1049.  748. 2244. 1161. 1504. 1566.  404.  411.\n",
      " 1210. 1244.  639.]\n",
      "-----------\n",
      "\n",
      "ship-city\n",
      "['BENGALURU' 'NAVI MUMBAI' 'CHENNAI' ... 'GULABPURA, Distt BHILWARA'\n",
      " 'Prayagraj (ALLAHABAD)' 'Halol']\n",
      "-----------\n",
      "\n",
      "ship-state\n",
      "['KARNATAKA' 'MAHARASHTRA' 'TAMIL NADU' 'UTTAR PRADESH' 'CHANDIGARH'\n",
      " 'TELANGANA' 'ANDHRA PRADESH' 'RAJASTHAN' 'DELHI' 'HARYANA' 'ASSAM'\n",
      " 'JHARKHAND' 'CHHATTISGARH' 'ODISHA' 'KERALA' 'MADHYA PRADESH'\n",
      " 'WEST BENGAL' 'NAGALAND' 'Gujarat' 'UTTARAKHAND' 'BIHAR'\n",
      " 'JAMMU & KASHMIR' 'PUNJAB' 'HIMACHAL PRADESH' 'ARUNACHAL PRADESH'\n",
      " 'MANIPUR' 'Goa' 'MEGHALAYA' 'PUDUCHERRY' 'GOA' 'TRIPURA' 'LADAKH'\n",
      " 'DADRA AND NAGAR' 'SIKKIM' 'Delhi' 'ANDAMAN & NICOBAR ' 'Punjab'\n",
      " 'Rajshthan' 'Manipur' 'rajasthan' 'Odisha' 'NL' 'Bihar' 'MIZORAM'\n",
      " 'punjab' 'New Delhi' 'Rajasthan' 'Punjab/Mohali/Zirakpur' 'Puducherry'\n",
      " 'delhi' 'RJ' 'Chandigarh' 'orissa' 'LAKSHADWEEP' 'goa' 'PB'\n",
      " 'Arunachal Pradesh' 'AR' 'Pondicherry' 'Sikkim' 'Arunachal pradesh'\n",
      " 'Nagaland' 'bihar' 'Mizoram' 'rajsthan' 'Orissa' 'Rajsthan']\n",
      "-----------\n",
      "\n",
      "ship-postal-code\n",
      "[560085. 410210. 600073. ... 841409. 629152. 311021.]\n",
      "-----------\n",
      "\n",
      "B2B\n",
      "[False  True]\n",
      "-----------\n",
      "\n"
     ]
    }
   ],
   "source": [
    "for i in df.columns:\n",
    "    print(i)\n",
    "    print(df[i].unique())\n",
    "    print('-----------\\n')"
   ]
  },
  {
   "cell_type": "markdown",
   "id": "bf1d1c66",
   "metadata": {},
   "source": [
    "### Checking and updating datatypes of column accordingly"
   ]
  },
  {
   "cell_type": "code",
   "execution_count": 13,
   "id": "61d79468",
   "metadata": {},
   "outputs": [
    {
     "data": {
      "text/plain": [
       "Order ID               object\n",
       "Date                   object\n",
       "Status                 object\n",
       "Fulfilment             object\n",
       "Sales Channel          object\n",
       "ship-service-level     object\n",
       "Style                  object\n",
       "Category               object\n",
       "Courier Status         object\n",
       "Amount                float64\n",
       "ship-city              object\n",
       "ship-state             object\n",
       "ship-postal-code      float64\n",
       "B2B                      bool\n",
       "dtype: object"
      ]
     },
     "execution_count": 13,
     "metadata": {},
     "output_type": "execute_result"
    }
   ],
   "source": [
    "df.dtypes"
   ]
  },
  {
   "cell_type": "code",
   "execution_count": 14,
   "id": "a0535a60",
   "metadata": {},
   "outputs": [],
   "source": [
    "df['Amount'] = df['Amount'].apply(np.int64)"
   ]
  },
  {
   "cell_type": "code",
   "execution_count": 18,
   "id": "cbd74867",
   "metadata": {},
   "outputs": [
    {
     "data": {
      "text/plain": [
       "Order ID               object\n",
       "Date                   object\n",
       "Status                 object\n",
       "Fulfilment             object\n",
       "Sales Channel          object\n",
       "ship-service-level     object\n",
       "Style                  object\n",
       "Category               object\n",
       "Courier Status         object\n",
       "Amount                  int64\n",
       "ship-city              object\n",
       "ship-state             object\n",
       "ship-postal-code      float64\n",
       "B2B                      bool\n",
       "dtype: object"
      ]
     },
     "execution_count": 18,
     "metadata": {},
     "output_type": "execute_result"
    }
   ],
   "source": [
    "df.dtypes"
   ]
  },
  {
   "cell_type": "code",
   "execution_count": 19,
   "id": "3e008a5f",
   "metadata": {},
   "outputs": [
    {
     "data": {
      "text/html": [
       "<div>\n",
       "<style scoped>\n",
       "    .dataframe tbody tr th:only-of-type {\n",
       "        vertical-align: middle;\n",
       "    }\n",
       "\n",
       "    .dataframe tbody tr th {\n",
       "        vertical-align: top;\n",
       "    }\n",
       "\n",
       "    .dataframe thead th {\n",
       "        text-align: right;\n",
       "    }\n",
       "</style>\n",
       "<table border=\"1\" class=\"dataframe\">\n",
       "  <thead>\n",
       "    <tr style=\"text-align: right;\">\n",
       "      <th></th>\n",
       "      <th>Order ID</th>\n",
       "      <th>Date</th>\n",
       "      <th>Status</th>\n",
       "      <th>Fulfilment</th>\n",
       "      <th>Sales Channel</th>\n",
       "      <th>ship-service-level</th>\n",
       "      <th>Style</th>\n",
       "      <th>Category</th>\n",
       "      <th>Courier Status</th>\n",
       "      <th>Amount</th>\n",
       "      <th>ship-city</th>\n",
       "      <th>ship-state</th>\n",
       "      <th>ship-postal-code</th>\n",
       "      <th>B2B</th>\n",
       "    </tr>\n",
       "  </thead>\n",
       "  <tbody>\n",
       "    <tr>\n",
       "      <th>1</th>\n",
       "      <td>171-9198151-1101146</td>\n",
       "      <td>04-30-22</td>\n",
       "      <td>Shipped - Delivered to Buyer</td>\n",
       "      <td>Merchant</td>\n",
       "      <td>Amazon.in</td>\n",
       "      <td>Standard</td>\n",
       "      <td>JNE3781</td>\n",
       "      <td>kurta</td>\n",
       "      <td>Shipped</td>\n",
       "      <td>406</td>\n",
       "      <td>BENGALURU</td>\n",
       "      <td>KARNATAKA</td>\n",
       "      <td>560085.0</td>\n",
       "      <td>False</td>\n",
       "    </tr>\n",
       "    <tr>\n",
       "      <th>2</th>\n",
       "      <td>404-0687676-7273146</td>\n",
       "      <td>04-30-22</td>\n",
       "      <td>Shipped</td>\n",
       "      <td>Amazon</td>\n",
       "      <td>Amazon.in</td>\n",
       "      <td>Expedited</td>\n",
       "      <td>JNE3371</td>\n",
       "      <td>kurta</td>\n",
       "      <td>Shipped</td>\n",
       "      <td>329</td>\n",
       "      <td>NAVI MUMBAI</td>\n",
       "      <td>MAHARASHTRA</td>\n",
       "      <td>410210.0</td>\n",
       "      <td>True</td>\n",
       "    </tr>\n",
       "    <tr>\n",
       "      <th>4</th>\n",
       "      <td>407-1069790-7240320</td>\n",
       "      <td>04-30-22</td>\n",
       "      <td>Shipped</td>\n",
       "      <td>Amazon</td>\n",
       "      <td>Amazon.in</td>\n",
       "      <td>Expedited</td>\n",
       "      <td>JNE3671</td>\n",
       "      <td>Top</td>\n",
       "      <td>Shipped</td>\n",
       "      <td>574</td>\n",
       "      <td>CHENNAI</td>\n",
       "      <td>TAMIL NADU</td>\n",
       "      <td>600073.0</td>\n",
       "      <td>False</td>\n",
       "    </tr>\n",
       "  </tbody>\n",
       "</table>\n",
       "</div>"
      ],
      "text/plain": [
       "              Order ID      Date                        Status Fulfilment  \\\n",
       "1  171-9198151-1101146  04-30-22  Shipped - Delivered to Buyer   Merchant   \n",
       "2  404-0687676-7273146  04-30-22                       Shipped     Amazon   \n",
       "4  407-1069790-7240320  04-30-22                       Shipped     Amazon   \n",
       "\n",
       "  Sales Channel  ship-service-level    Style Category Courier Status  Amount  \\\n",
       "1      Amazon.in           Standard  JNE3781    kurta        Shipped     406   \n",
       "2      Amazon.in          Expedited  JNE3371    kurta        Shipped     329   \n",
       "4      Amazon.in          Expedited  JNE3671      Top        Shipped     574   \n",
       "\n",
       "     ship-city   ship-state  ship-postal-code    B2B  \n",
       "1    BENGALURU    KARNATAKA          560085.0  False  \n",
       "2  NAVI MUMBAI  MAHARASHTRA          410210.0   True  \n",
       "4      CHENNAI   TAMIL NADU          600073.0  False  "
      ]
     },
     "execution_count": 19,
     "metadata": {},
     "output_type": "execute_result"
    }
   ],
   "source": [
    "df.head(3)"
   ]
  },
  {
   "cell_type": "markdown",
   "id": "d2b01f8c",
   "metadata": {},
   "source": [
    "### Saving the cleaned data into csv file"
   ]
  },
  {
   "cell_type": "code",
   "execution_count": 20,
   "id": "8f3e222f",
   "metadata": {},
   "outputs": [],
   "source": [
    "df.to_csv(\"clnamazonsales.csv\",index=False)"
   ]
  },
  {
   "cell_type": "code",
   "execution_count": 22,
   "id": "7a59484e",
   "metadata": {},
   "outputs": [
    {
     "data": {
      "text/plain": [
       "(116016, 14)"
      ]
     },
     "execution_count": 22,
     "metadata": {},
     "output_type": "execute_result"
    }
   ],
   "source": [
    "df.shape"
   ]
  },
  {
   "cell_type": "code",
   "execution_count": 23,
   "id": "bca1e906",
   "metadata": {},
   "outputs": [
    {
     "data": {
      "text/plain": [
       "array(['Shipped - Delivered to Buyer', 'Shipped', 'Cancelled',\n",
       "       'Shipped - Returned to Seller', 'Shipped - Rejected by Buyer',\n",
       "       'Shipped - Lost in Transit', 'Shipped - Out for Delivery',\n",
       "       'Shipped - Returning to Seller', 'Shipped - Picked Up', 'Pending',\n",
       "       'Pending - Waiting for Pick Up', 'Shipped - Damaged'], dtype=object)"
      ]
     },
     "execution_count": 23,
     "metadata": {},
     "output_type": "execute_result"
    }
   ],
   "source": [
    "df['Status'].unique()"
   ]
  },
  {
   "cell_type": "code",
   "execution_count": 24,
   "id": "7f2c5bfe",
   "metadata": {},
   "outputs": [
    {
     "data": {
      "text/plain": [
       "Shipped                          77580\n",
       "Shipped - Delivered to Buyer     28754\n",
       "Cancelled                         5628\n",
       "Shipped - Returned to Seller      1947\n",
       "Shipped - Picked Up                973\n",
       "Pending                            656\n",
       "Pending - Waiting for Pick Up      281\n",
       "Shipped - Returning to Seller      145\n",
       "Shipped - Out for Delivery          35\n",
       "Shipped - Rejected by Buyer         11\n",
       "Shipped - Lost in Transit            5\n",
       "Shipped - Damaged                    1\n",
       "Name: Status, dtype: int64"
      ]
     },
     "execution_count": 24,
     "metadata": {},
     "output_type": "execute_result"
    }
   ],
   "source": [
    "df['Status'].value_counts()"
   ]
  },
  {
   "cell_type": "code",
   "execution_count": null,
   "id": "53a42739",
   "metadata": {},
   "outputs": [],
   "source": [
    "Shipped - Returned to Seller , Shipped - Damaged  , Cancelled , Shipped - Returning to Seller"
   ]
  },
  {
   "cell_type": "code",
   "execution_count": null,
   "id": "83ac986a",
   "metadata": {},
   "outputs": [],
   "source": []
  },
  {
   "cell_type": "code",
   "execution_count": null,
   "id": "e6cbb83a",
   "metadata": {},
   "outputs": [],
   "source": []
  },
  {
   "cell_type": "code",
   "execution_count": null,
   "id": "18b4fcc5",
   "metadata": {},
   "outputs": [],
   "source": []
  },
  {
   "cell_type": "code",
   "execution_count": null,
   "id": "c6a82408",
   "metadata": {},
   "outputs": [],
   "source": []
  },
  {
   "cell_type": "code",
   "execution_count": null,
   "id": "cb18719c",
   "metadata": {},
   "outputs": [],
   "source": []
  },
  {
   "cell_type": "code",
   "execution_count": null,
   "id": "5d54f2fb",
   "metadata": {},
   "outputs": [],
   "source": []
  },
  {
   "cell_type": "code",
   "execution_count": null,
   "id": "f95bbcf8",
   "metadata": {},
   "outputs": [],
   "source": []
  },
  {
   "cell_type": "code",
   "execution_count": null,
   "id": "691ce915",
   "metadata": {},
   "outputs": [],
   "source": []
  },
  {
   "cell_type": "code",
   "execution_count": null,
   "id": "42371de0",
   "metadata": {},
   "outputs": [],
   "source": []
  },
  {
   "cell_type": "code",
   "execution_count": null,
   "id": "2deefbc4",
   "metadata": {},
   "outputs": [],
   "source": []
  },
  {
   "cell_type": "code",
   "execution_count": null,
   "id": "6ef9f3eb",
   "metadata": {},
   "outputs": [],
   "source": []
  },
  {
   "cell_type": "code",
   "execution_count": null,
   "id": "eebe35a8",
   "metadata": {},
   "outputs": [],
   "source": []
  },
  {
   "cell_type": "code",
   "execution_count": null,
   "id": "04d26f71",
   "metadata": {},
   "outputs": [],
   "source": []
  },
  {
   "cell_type": "code",
   "execution_count": null,
   "id": "dc6277b8",
   "metadata": {},
   "outputs": [],
   "source": []
  },
  {
   "cell_type": "code",
   "execution_count": null,
   "id": "7b4398cf",
   "metadata": {},
   "outputs": [],
   "source": []
  },
  {
   "cell_type": "code",
   "execution_count": null,
   "id": "140923a4",
   "metadata": {},
   "outputs": [],
   "source": []
  },
  {
   "cell_type": "code",
   "execution_count": null,
   "id": "8e6f8089",
   "metadata": {},
   "outputs": [],
   "source": []
  },
  {
   "cell_type": "code",
   "execution_count": null,
   "id": "f740dedf",
   "metadata": {},
   "outputs": [],
   "source": []
  },
  {
   "cell_type": "code",
   "execution_count": null,
   "id": "2fae6067",
   "metadata": {},
   "outputs": [],
   "source": []
  },
  {
   "cell_type": "code",
   "execution_count": null,
   "id": "f2ce1d3e",
   "metadata": {},
   "outputs": [],
   "source": []
  },
  {
   "cell_type": "code",
   "execution_count": null,
   "id": "d3870cba",
   "metadata": {},
   "outputs": [],
   "source": []
  },
  {
   "cell_type": "code",
   "execution_count": null,
   "id": "bcf6426d",
   "metadata": {},
   "outputs": [],
   "source": []
  },
  {
   "cell_type": "code",
   "execution_count": null,
   "id": "d98f7250",
   "metadata": {},
   "outputs": [],
   "source": []
  },
  {
   "cell_type": "code",
   "execution_count": null,
   "id": "f40faafb",
   "metadata": {},
   "outputs": [],
   "source": []
  },
  {
   "cell_type": "code",
   "execution_count": null,
   "id": "1dae790f",
   "metadata": {},
   "outputs": [],
   "source": []
  },
  {
   "cell_type": "code",
   "execution_count": null,
   "id": "f083aa78",
   "metadata": {},
   "outputs": [],
   "source": []
  },
  {
   "cell_type": "code",
   "execution_count": null,
   "id": "cec2adb8",
   "metadata": {},
   "outputs": [],
   "source": []
  },
  {
   "cell_type": "code",
   "execution_count": null,
   "id": "798e0f31",
   "metadata": {},
   "outputs": [],
   "source": []
  },
  {
   "cell_type": "code",
   "execution_count": null,
   "id": "cab93c82",
   "metadata": {},
   "outputs": [],
   "source": []
  },
  {
   "cell_type": "code",
   "execution_count": null,
   "id": "62f74e39",
   "metadata": {},
   "outputs": [],
   "source": []
  },
  {
   "cell_type": "code",
   "execution_count": null,
   "id": "056d7fa4",
   "metadata": {},
   "outputs": [],
   "source": []
  },
  {
   "cell_type": "code",
   "execution_count": null,
   "id": "163555c1",
   "metadata": {},
   "outputs": [],
   "source": []
  },
  {
   "cell_type": "code",
   "execution_count": null,
   "id": "edab3404",
   "metadata": {},
   "outputs": [],
   "source": []
  },
  {
   "cell_type": "code",
   "execution_count": null,
   "id": "296ed948",
   "metadata": {},
   "outputs": [],
   "source": []
  },
  {
   "cell_type": "code",
   "execution_count": null,
   "id": "90cb55fd",
   "metadata": {},
   "outputs": [],
   "source": []
  },
  {
   "cell_type": "code",
   "execution_count": null,
   "id": "3abae56a",
   "metadata": {},
   "outputs": [],
   "source": []
  }
 ],
 "metadata": {
  "kernelspec": {
   "display_name": "Python 3 (ipykernel)",
   "language": "python",
   "name": "python3"
  },
  "language_info": {
   "codemirror_mode": {
    "name": "ipython",
    "version": 3
   },
   "file_extension": ".py",
   "mimetype": "text/x-python",
   "name": "python",
   "nbconvert_exporter": "python",
   "pygments_lexer": "ipython3",
   "version": "3.9.13"
  }
 },
 "nbformat": 4,
 "nbformat_minor": 5
}
